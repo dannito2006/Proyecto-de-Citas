{
 "cells": [
  {
   "cell_type": "code",
   "execution_count": 38,
   "id": "3672b8f7",
   "metadata": {},
   "outputs": [],
   "source": [
    "\n",
    "\n",
    "def heteroman():\n",
    "    print(\" ¿Listo para encontrar la mujer de tus sueños? :D\")\n",
    "    input(\" Acceso a la ubicacion? \")\n",
    "    input(\" Introduce la distancia en kilometros en donde quieras encontrar a tu pareja: \")\n",
    "    input(\" Introduce tu Correo Electronico: \")\n",
    "    clavehm=int(input(\"Introduce tu clave: \"))\n",
    "    while clavehm!=456:\n",
    "        print(\"Clave Incorrecta\")\n",
    "        clavehm=int(input(\"Introduce tu clave: \"))\n",
    "    print(\" ¡Bienvenido ve por tu match!\")\n",
    "        \n",
    "def hombregay():\n",
    "    print(\" Somos Una App LGBTQ+ Friendly :D\")\n",
    "    input(\" Acceso a la ubicacion? \")\n",
    "    input(\" Introduce la distancia en kilometros en donde quieras encontrar a tu pareja: \")\n",
    "    input(\" Introduce tu Correo Electronico: \")\n",
    "    clavehh=int(input(\"Introduce tu clave: \"))\n",
    "    while clavehh!=123:\n",
    "        print(\"Clave Incorrecta\")\n",
    "        clavehh=int(input(\"Introduce tu clave: \"))\n",
    "    print(\" ¡Bienvenido ve por tu match!\")\n",
    "    \n",
    "def heteromujer():\n",
    "    print(\" Lista para encontrar el hombre de tus sueños? \")\n",
    "    input(\" Acceso a la ubicacion? \")\n",
    "    input(\" Introduce la distancia en kilometros en donde quieras encontrar a tu pareja: \")\n",
    "    input(\" Introduce tu Correo Electronico: \")\n",
    "    clavemh=int(input(\"Introduce tu clave: \"))\n",
    "    while clavemh!=789:\n",
    "        print(\"Clave Incorrecta\")\n",
    "        clavemh=int(input(\"Introduce tu clave: \"))\n",
    "    print(\" ¡Bienvenida ve por tu match!\")\n",
    "        \n",
    "def mujergay():\n",
    "    print(\" Somos Una App LGBTQ+ Friendly :D\")\n",
    "    input(\" Acceso a la ubicacion? \")\n",
    "    input(\" Introduce la distancia en kilometros en donde quieras encontrar a tu pareja: \")\n",
    "    input(\" Introduce tu Correo Electronico: \")\n",
    "    clavemm=int(input(\"Introduce tu clave: \"))\n",
    "    while clavemm!=0:\n",
    "        print(\"Clave Incorrecta\")\n",
    "        clavemm=int(input(\"Introduce tu clave: \"))\n",
    "    print(\" ¡Bienvenida ve por tu match!\")\n",
    "        \n",
    "    "
   ]
  },
  {
   "cell_type": "code",
   "execution_count": 34,
   "id": "30d02c76",
   "metadata": {},
   "outputs": [
    {
     "name": "stdout",
     "output_type": "stream",
     "text": [
      " Somos Una App LGBTQ+ Friendly :D\n",
      " Acceso a la ubicacion? dasd{\n",
      " Introduce la distancia en kilometros en donde quieras encontrar a tu pareja: dasd\n",
      " Introduce tu Correo Electronico: adsda\n",
      "Introduce tu clave: 455\n",
      "Clave Incorrecta\n",
      "Introduce tu clave: 123\n",
      " ¡Bienvenido ve por tu match!\n"
     ]
    }
   ],
   "source": [
    "hombregay()"
   ]
  },
  {
   "cell_type": "code",
   "execution_count": 35,
   "id": "4023b87f",
   "metadata": {},
   "outputs": [
    {
     "name": "stdout",
     "output_type": "stream",
     "text": [
      " ¿Listo para encontrar la mujer de tus sueños? :D\n",
      " Acceso a la ubicacion? sdaad\n",
      " Introduce la distancia en kilometros en donde quieras encontrar a tu pareja: sdasd\n",
      " Introduce tu Correo Electronico: asdqa\n",
      "Introduce tu clave: 322\n",
      "Clave Incorrecta\n",
      "Introduce tu clave: 456\n",
      " ¡Bienvenido ve por tu match!\n"
     ]
    }
   ],
   "source": [
    "heteroman()"
   ]
  },
  {
   "cell_type": "code",
   "execution_count": 36,
   "id": "906c12b9",
   "metadata": {},
   "outputs": [
    {
     "name": "stdout",
     "output_type": "stream",
     "text": [
      " Somos Una App LGBTQ+ Friendly :D\n",
      " Acceso a la ubicacion? dsadas\n",
      " Introduce la distancia en kilometros en donde quieras encontrar a tu pareja: dsadas\n",
      " Introduce tu Correo Electronico: dsadas\n",
      "Introduce tu clave: 789\n",
      "Clave Incorrecta\n",
      "Introduce tu clave: 0\n",
      " ¡Bienvenido ve por tu match!\n"
     ]
    }
   ],
   "source": [
    "mujergay()"
   ]
  },
  {
   "cell_type": "code",
   "execution_count": 37,
   "id": "ddda2303",
   "metadata": {},
   "outputs": [
    {
     "name": "stdout",
     "output_type": "stream",
     "text": [
      " Lista para encontrar el hombre de tus sueños? \n",
      " Acceso a la ubicacion? eqeqw\n",
      " Introduce la distancia en kilometros en donde quieras encontrar a tu pareja: eqweq\n",
      " Introduce tu Correo Electronico: eqweqw\n",
      "Introduce tu clave: 72\n",
      "Clave Incorrecta\n",
      "Introduce tu clave: 789\n",
      " ¡Bienvenido ve por tu match!\n"
     ]
    }
   ],
   "source": [
    "heteromujer()"
   ]
  },
  {
   "cell_type": "code",
   "execution_count": null,
   "id": "5dfaa7a3",
   "metadata": {},
   "outputs": [],
   "source": [
    "try:\n",
    "    resultado = a / b\n",
    "except:\n",
    "    print(\"Valores incorrectos\")\n",
    "    "
   ]
  },
  {
   "cell_type": "code",
   "execution_count": 20,
   "id": "b4b12881",
   "metadata": {},
   "outputs": [
    {
     "name": "stdout",
     "output_type": "stream",
     "text": [
      "Bienvenido a la aplicación\n",
      "¿Eres hombre o mujer? Mujer\n",
      "¿Qué género estás buscando para tu cita? Hombre\n",
      "Elegiste hombre, tienes un 25% de descuento en la aplicación\n",
      " Lista para encontrar el hombre de tus sueños? \n",
      " Acceso a la ubicacion? Si\n",
      " Introduce la distancia en kilometros en donde quieras encontrar a tu pareja: 82\n",
      " Introduce tu Correo Electronico: adjsad\n",
      "Introduce tu clave: 123\n",
      "Clave Incorrecta\n",
      "Introduce tu clave: 789\n",
      " ¡Bienvenida ve por tu match!\n"
     ]
    }
   ],
   "source": [
    "import pyttsx3\n",
    "\n",
    "engine = pyttsx3.init()\n",
    "\n",
    "def heteroman():\n",
    "    print(\" ¿Listo para encontrar la mujer de tus sueños? :D\")\n",
    "    engine.say(\"¿Listo para encontrar la mujer de tus sueños? \")\n",
    "    engine.runAndWait()\n",
    "    engine.say(\"¿Acceso a la ubicacion?\")\n",
    "    engine.runAndWait()\n",
    "    input(\" ¿Acceso a la ubicación? \")\n",
    "    engine.say(\"Introduce la distancia en kilometros en donde quieras encontrar a tu pareja: \")\n",
    "    engine.runAndWait()\n",
    "    input(\" Introduce la distancia en kilometros en donde quieras encontrar a tu pareja: \")\n",
    "    engine.say(\"Introduce tu Correo Electronico: \")\n",
    "    engine.runAndWait()\n",
    "    input(\" Introduce tu Correo Electronico: \")\n",
    "    engine.say(\"Introduce tu clave: \")\n",
    "    engine.runAndWait()\n",
    "    clavehm=int(input(\"Introduce tu clave: \"))\n",
    "    while clavehm!=456:\n",
    "        print(\"Clave Incorrecta\")\n",
    "        engine.say(\"Clave Incorrecta \")\n",
    "        engine.runAndWait()\n",
    "        engine.say(\"Introduce tu clave: \")\n",
    "        engine.runAndWait()\n",
    "        clavehm=int(input(\"Introduce tu clave: \"))\n",
    "    print(\" ¡Bienvenido ve por tu match!\")\n",
    "    engine.say(\"¡Bienvenido ve por tu match! \")\n",
    "    engine.runAndWait()\n",
    "        \n",
    "def hombregay():\n",
    "    print(\" Somos Una App LGBTQ+ Friendly :D\")\n",
    "    engine.say(\" Somos Una App LGBTQ+ Friendly :D\")\n",
    "    engine.runAndWait()\n",
    "    engine.say(\"¿Acceso a la ubicacion? \")\n",
    "    engine.runAndWait()\n",
    "    input(\" Acceso a la ubicacion? \")\n",
    "    engine.say(\"Introduce la distancia en kilometros en donde quieras encontrar a tu pareja: \")\n",
    "    engine.runAndWait()\n",
    "    input(\" Introduce la distancia en kilometros en donde quieras encontrar a tu pareja: \")\n",
    "    engine.say(\"Introduce tu Correo Electronico: \")\n",
    "    engine.runAndWait()\n",
    "    input(\" Introduce tu Correo Electronico: \")\n",
    "    engine.say(\"Introduce tu clave: \")\n",
    "    engine.runAndWait()\n",
    "    clavehh=int(input(\"Introduce tu clave: \"))\n",
    "\n",
    "    while clavehh!=123:\n",
    "        print(\"Clave Incorrecta\")\n",
    "        engine.say(\"Clave Incorrecta\")\n",
    "        engine.runAndWait()\n",
    "        engine.say(\"Introduce tu Clave\")\n",
    "        engine.runAndWait()\n",
    "        clavehh=int(input(\"Introduce tu Clave\"))\n",
    "        \n",
    "    print(\" ¡Bienvenido ve por tu match!\")\n",
    "    engine.say(\"¡Bienvenido ve por tu match!\")\n",
    "    engine.runAndWait()\n",
    "    \n",
    "def heteromujer():\n",
    "    print(\" Lista para encontrar el hombre de tus sueños? \")\n",
    "    engine.say(\"¿Lista para encontrar el hombre de tus sueño? \")\n",
    "    engine.runAndWait()\n",
    "    engine.say(\"¿Acceso a la ubicacion? \")\n",
    "    engine.runAndWait()\n",
    "    input(\" Acceso a la ubicacion? \")\n",
    "    engine.say(\"Introduce la distancia en kilometros en donde quieras encontrar a tu pareja: \")\n",
    "    engine.runAndWait()\n",
    "    input(\" Introduce la distancia en kilometros en donde quieras encontrar a tu pareja: \")\n",
    "    engine.say(\"Introduce tu Correo Electronico: \")\n",
    "    engine.runAndWait()\n",
    "    input(\" Introduce tu Correo Electronico: \")\n",
    "    engine.say(\"Introduce tu clave: \")\n",
    "    engine.runAndWait()\n",
    "    clavemh=int(input(\"Introduce tu clave: \"))\n",
    "\n",
    "    while clavemh!=789:\n",
    "        print(\"Clave Incorrecta\")\n",
    "        engine.say(\"Clave Incorrecta: \")\n",
    "        engine.runAndWait()\n",
    "        engine.say(\"Introduce tu clave: \")\n",
    "        engine.runAndWait()\n",
    "        clavemh=int(input(\"Introduce tu clave: \"))\n",
    "        \n",
    "    print(\" ¡Bienvenida ve por tu match!\")\n",
    "    engine.say(\"¡Bienvenido ve por tu match! \")\n",
    "    engine.runAndWait()\n",
    "        \n",
    "def mujergay():\n",
    "    print(\" Somos Una App LGBTQ+ Friendly :D\")\n",
    "    engine.say(\" Somos Una App LGBTQ+ Friendly :D\")\n",
    "    engine.runAndWait()\n",
    "    engine.say(\"¿Acceso a la ubicacion? \")\n",
    "    engine.runAndWait()\n",
    "    input(\" ¿Acceso a la ubicación? \")\n",
    "    engine.say(\"Introduce la distancia en kilometros en donde quieras encontrar a tu pareja: \")\n",
    "    engine.runAndWait()\n",
    "    input(\" Introduce la distancia en kilometros en donde quieras encontrar a tu pareja: \")\n",
    "    engine.say(\"Introduce tu Correo Electronico: \")\n",
    "    engine.runAndWait()\n",
    "    input(\" Introduce tu Correo Electronico: \")\n",
    "    engine.say(\"Introduce tu Clave: \")\n",
    "    engine.runAndWait()\n",
    "    clavemm=int(input(\"Introduce tu clave: \"))\n",
    "  \n",
    "    while clavemm!=0:\n",
    "        print(\"Clave Incorrecta\")\n",
    "        engine.say(\"Clave Incorrecta\")\n",
    "        engine.runAndWait()\n",
    "        engine.say(\"Introduce tu Clave: \")\n",
    "        engine.runAndWait()\n",
    "        clavemm=int(input(\"Introduce tu clave: \"))\n",
    "        \n",
    "    print(\" ¡Bienvenida ve por tu match!\")\n",
    "    engine.say(\" ¡Bienvenida ve por tu match!\")\n",
    "    engine.runAndWait()\n",
    "        \n",
    "print(\"Bienvenido a la aplicación\")\n",
    "engine.say(\"Bienvenido a la aplicación\")\n",
    "engine.runAndWait()\n",
    "engine.say(\"¿Eres hombre o mujer?\")\n",
    "engine.runAndWait()\n",
    "opcion1 = input(\"¿Eres hombre o mujer? \").lower()\n",
    "opcion2 = \"hombre\"\n",
    "opcion3 = \"mujer\"\n",
    "\n",
    "\n",
    "if opcion1 == \"hombre\":\n",
    "    engine.say(\"Qué género estás buscando para tu cita? \")\n",
    "    engine.runAndWait()\n",
    "    opcion2 = input(\"¿Qué género estás buscando para tu cita? \").lower()\n",
    "    if opcion2 == \"hombre\":\n",
    "        print(\"Elegiste hombre, tienes un 15% de descuento en la aplicación\")\n",
    "        engine.say(\"Elegiste hombre, tienes un 15% de descuento en la aplicación\")\n",
    "        engine.runAndWait()\n",
    "        hombregay()\n",
    "    else: \n",
    "        print(\"Elegiste mujer, tienes un 30% de descuento en la aplicación\")\n",
    "        engine.say(\"Elegiste mujer, tienes un 30% de descuento en la aplicación\")\n",
    "        engine.runAndWait()\n",
    "        heteroman()\n",
    "else:\n",
    "    engine.say(\"Qué género estás buscando para tu cita? \")\n",
    "    engine.runAndWait()\n",
    "    opcion3 = input(\"¿Qué género estás buscando para tu cita? \").lower()\n",
    "    if opcion3 == opcion2:\n",
    "        print(\"Elegiste hombre, tienes un 25% de descuento en la aplicación\")\n",
    "        engine.say(\"Elegiste hombre, tienes un 25% de descuento en la aplicación\")\n",
    "        engine.runAndWait()\n",
    "        heteromujer()\n",
    "    else:\n",
    "        print(\"Elegiste mujer, tienes un 18% de descuento en la aplicación\")\n",
    "        engine.say(\"Elegiste mujer, tienes un 18% de descuento en la aplicación\")\n",
    "        engine.runAndWait()\n",
    "        mujergay()\n",
    "\n",
    "        \n",
    "engine.runAndWait()\n"
   ]
  },
  {
   "cell_type": "code",
   "execution_count": 12,
   "id": "50246611",
   "metadata": {},
   "outputs": [
    {
     "name": "stdout",
     "output_type": "stream",
     "text": [
      "Elegiste hombre, tienes un 25% de descuento en la aplicación\n"
     ]
    }
   ],
   "source": []
  },
  {
   "cell_type": "code",
   "execution_count": null,
   "id": "54680b61",
   "metadata": {},
   "outputs": [],
   "source": []
  },
  {
   "cell_type": "code",
   "execution_count": null,
   "id": "1e47ece3",
   "metadata": {},
   "outputs": [],
   "source": []
  }
 ],
 "metadata": {
  "kernelspec": {
   "display_name": "Python 3 (ipykernel)",
   "language": "python",
   "name": "python3"
  },
  "language_info": {
   "codemirror_mode": {
    "name": "ipython",
    "version": 3
   },
   "file_extension": ".py",
   "mimetype": "text/x-python",
   "name": "python",
   "nbconvert_exporter": "python",
   "pygments_lexer": "ipython3",
   "version": "3.9.13"
  }
 },
 "nbformat": 4,
 "nbformat_minor": 5
}
